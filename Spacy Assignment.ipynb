{
  "nbformat": 4,
  "nbformat_minor": 0,
  "metadata": {
    "colab": {
      "name": "Spacy Assignment.ipynb",
      "provenance": [],
      "authorship_tag": "ABX9TyPR4gIWL/9s3f5oMQHQehVY",
      "include_colab_link": true
    },
    "kernelspec": {
      "name": "python3",
      "display_name": "Python 3"
    }
  },
  "cells": [
    {
      "cell_type": "markdown",
      "metadata": {
        "id": "view-in-github",
        "colab_type": "text"
      },
      "source": [
        "<a href=\"https://colab.research.google.com/github/hawkeye101/DLCVNLP/blob/main/Spacy%20Assignment.ipynb\" target=\"_parent\"><img src=\"https://colab.research.google.com/assets/colab-badge.svg\" alt=\"Open In Colab\"/></a>"
      ]
    },
    {
      "cell_type": "markdown",
      "metadata": {
        "id": "HHA7k0iiOskW"
      },
      "source": [
        "**Spacy Assignment**"
      ]
    },
    {
      "cell_type": "code",
      "metadata": {
        "id": "s5XUFHpqPBuI"
      },
      "source": [
        "import spacy"
      ],
      "execution_count": 1,
      "outputs": []
    },
    {
      "cell_type": "markdown",
      "metadata": {
        "id": "s8X-Gd6rO33l"
      },
      "source": [
        "*Problem 1*"
      ]
    },
    {
      "cell_type": "code",
      "metadata": {
        "colab": {
          "base_uri": "https://localhost:8080/"
        },
        "id": "ZztmODxZO7Tx",
        "outputId": "50971385-20cb-4dc8-c50d-a245dd6da854"
      },
      "source": [
        "from spacy import displacy\n",
        "\n",
        "text = \"I saw a kitten eating chicken in the kitchen\"\n",
        "\n",
        "nlp = spacy.load(\"en_core_web_sm\")\n",
        "doc = nlp(text)\n",
        "displacy.serve(doc, style=\"dep\")"
      ],
      "execution_count": 2,
      "outputs": [
        {
          "output_type": "stream",
          "text": [
            "\n",
            "Using the 'dep' visualizer\n",
            "Serving on http://0.0.0.0:5000 ...\n",
            "\n",
            "Shutting down server on port 5000.\n"
          ],
          "name": "stdout"
        }
      ]
    },
    {
      "cell_type": "markdown",
      "metadata": {
        "id": "qrHgNuWlPGsl"
      },
      "source": [
        "*Problem 2*"
      ]
    },
    {
      "cell_type": "code",
      "metadata": {
        "colab": {
          "base_uri": "https://localhost:8080/"
        },
        "id": "gIb5c_f2PIKD",
        "outputId": "74b35048-ce9d-4ad2-bd3e-67d09dbb0259"
      },
      "source": [
        "import spacy.cli\n",
        "from spacy.tokenizer import Tokenizer\n",
        "\n",
        "import warnings\n",
        "warnings.filterwarnings(\"ignore\")\n",
        "\n",
        "#spacy.cli.download(\"en_core_web_md\")\n",
        "import en_core_web_md\n",
        "nlp = en_core_web_md.load()\n",
        "\n",
        "tokens = nlp(\"ship car truck motorbike jeep hagskdshd\")\n",
        "\n",
        "for token11 in tokens:\n",
        "    for token13 in tokens:\n",
        "        print(token11.text, token13.text, token11.similarity(token13))"
      ],
      "execution_count": 6,
      "outputs": [
        {
          "output_type": "stream",
          "text": [
            "ship ship 1.0\n",
            "ship car 0.2815587\n",
            "ship truck 0.35367906\n",
            "ship motorbike 0.22879732\n",
            "ship jeep 0.21036273\n",
            "ship hagskdshd 0.0\n",
            "car ship 0.2815587\n",
            "car car 1.0\n",
            "car truck 0.71134394\n",
            "car motorbike 0.5879229\n",
            "car jeep 0.5652786\n",
            "car hagskdshd 0.0\n",
            "truck ship 0.35367906\n",
            "truck car 0.71134394\n",
            "truck truck 1.0\n",
            "truck motorbike 0.5753129\n",
            "truck jeep 0.6284901\n",
            "truck hagskdshd 0.0\n",
            "motorbike ship 0.22879732\n",
            "motorbike car 0.5879229\n",
            "motorbike truck 0.5753129\n",
            "motorbike motorbike 1.0\n",
            "motorbike jeep 0.5064059\n",
            "motorbike hagskdshd 0.0\n",
            "jeep ship 0.21036273\n",
            "jeep car 0.5652786\n",
            "jeep truck 0.6284901\n",
            "jeep motorbike 0.5064059\n",
            "jeep jeep 1.0\n",
            "jeep hagskdshd 0.0\n",
            "hagskdshd ship 0.0\n",
            "hagskdshd car 0.0\n",
            "hagskdshd truck 0.0\n",
            "hagskdshd motorbike 0.0\n",
            "hagskdshd jeep 0.0\n",
            "hagskdshd hagskdshd 1.0\n"
          ],
          "name": "stdout"
        }
      ]
    },
    {
      "cell_type": "markdown",
      "metadata": {
        "id": "xCtdVHDdPSlS"
      },
      "source": [
        "*Problem 3*"
      ]
    },
    {
      "cell_type": "code",
      "metadata": {
        "colab": {
          "base_uri": "https://localhost:8080/"
        },
        "id": "EPgvjtOJPUNi",
        "outputId": "e0f1b808-1222-4416-d144-927e8a9e28d5"
      },
      "source": [
        "doc = nlp(\"I saw a kitten eating chicken in the kitchen\")\n",
        "for token in doc:\n",
        "    print(token.text, token.pos_, token.dep_)\n"
      ],
      "execution_count": 4,
      "outputs": [
        {
          "output_type": "stream",
          "text": [
            "I PRON nsubj\n",
            "saw VERB ROOT\n",
            "a DET det\n",
            "kitten ADJ nsubj\n",
            "eating VERB ccomp\n",
            "chicken NOUN dobj\n",
            "in ADP prep\n",
            "the DET det\n",
            "kitchen NOUN pobj\n"
          ],
          "name": "stdout"
        }
      ]
    },
    {
      "cell_type": "markdown",
      "metadata": {
        "id": "42390Y5YPxrr"
      },
      "source": [
        "*Problem 4*"
      ]
    },
    {
      "cell_type": "markdown",
      "metadata": {
        "id": "jZZK-uYFPzS_"
      },
      "source": [
        "Word vectors give information about similarity and differences of two words. Each word has a vector representation where each index in the vector represents a category. For example, words 'apple' and 'mango' relate highly to category 'fruit' and 'food', while they don't relate much to 'vehicle'. They can be distinguished by considering that 'apple' is not related highly to category 'yellow' while 'mango' is related highly.\n",
        "\n",
        "For example,\n",
        "\n",
        "'apple' -> [0.95, 0.8, 0.0001, 0.01]\n",
        "\n",
        "'mango' -> [0.9, 0.7, 0.00001, 0.5]\n",
        "\n",
        "The first index is the category 'fruit'.\n",
        "\n",
        "Second index is category 'food'.\n",
        "\n",
        "Third index is category 'vehicle'.\n",
        "\n",
        "Fourth index is category 'yellow'.\n",
        "\n",
        "The L2 norm of a word vector says how common is a word."
      ]
    },
    {
      "cell_type": "markdown",
      "metadata": {
        "id": "mfIhqKK8XEho"
      },
      "source": [
        "*Problem 5*"
      ]
    },
    {
      "cell_type": "markdown",
      "metadata": {
        "id": "RoWXKLw8XGPa"
      },
      "source": [
        "**Vocab** is the list of words contained by spacy library, encoded with other information about the words.\n",
        "\n",
        "**Hash** is a string of digits for each word. It is used to access information like word vector, parts of speech, etc.\n",
        "\n",
        "**Lexeme** is an entry in the vocab."
      ]
    },
    {
      "cell_type": "markdown",
      "metadata": {
        "id": "7483BLSrOqAm"
      },
      "source": [
        ""
      ]
    }
  ]
}