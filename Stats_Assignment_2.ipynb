{
  "nbformat": 4,
  "nbformat_minor": 0,
  "metadata": {
    "colab": {
      "name": "Stats Assignment 2.ipynb",
      "provenance": [],
      "collapsed_sections": [],
      "authorship_tag": "ABX9TyPONFwL1JnTpIzXJ/dsgauH",
      "include_colab_link": true
    },
    "kernelspec": {
      "name": "python3",
      "display_name": "Python 3"
    }
  },
  "cells": [
    {
      "cell_type": "markdown",
      "metadata": {
        "id": "view-in-github",
        "colab_type": "text"
      },
      "source": [
        "<a href=\"https://colab.research.google.com/github/hawkeye101/DLCVNLP/blob/main/Stats_Assignment_2.ipynb\" target=\"_parent\"><img src=\"https://colab.research.google.com/assets/colab-badge.svg\" alt=\"Open In Colab\"/></a>"
      ]
    },
    {
      "cell_type": "markdown",
      "metadata": {
        "id": "H1Ld-4zNCIO_"
      },
      "source": [
        "# **Stats Assignment 2**"
      ]
    },
    {
      "cell_type": "code",
      "metadata": {
        "id": "4xyZtpPBCQRB"
      },
      "source": [
        "from numpy import *\n",
        "from scipy.stats import *\n",
        "cdf = norm.cdf\n",
        "ppf = norm.ppf\n",
        "cdf_t = t.cdf\n",
        "ppf_t = t.ppf\n",
        "cdf_chi = chi2.cdf"
      ],
      "execution_count": 99,
      "outputs": []
    },
    {
      "cell_type": "markdown",
      "metadata": {
        "id": "RL_f2uuZCRcr"
      },
      "source": [
        "**Problem 1**"
      ]
    },
    {
      "cell_type": "markdown",
      "metadata": {
        "id": "m-q6NgNKCfaZ"
      },
      "source": [
        "Part 1: Correct hypothesis. Can be tested with two-tailed test.\n",
        "\n",
        "Part 2: Incorrect hypothesis. Null hypothesis should be equality.\n",
        "\n",
        "Part 3: Correct hypothesis. Can be tested directly without distribution.\n",
        "\n",
        "Part 4: Incorrect hypothesis. Alternate hypothesis should be p ≠ 0.1.\n",
        "\n",
        "Part 5: Incorrect hypothesis. Alternate hypothesis should be s ≠ 30.\n"
      ]
    },
    {
      "cell_type": "markdown",
      "metadata": {
        "id": "4RCUPRKdCk0o"
      },
      "source": [
        "**Problem 2**"
      ]
    },
    {
      "cell_type": "markdown",
      "metadata": {
        "id": "YH4bZD1tC2UI"
      },
      "source": [
        "Null Hypothesis: Average cost of books is as claimed by bookstore.\n",
        "\n",
        "Alternate hypothesis: Average cost of books is higher.\n",
        "\n",
        "Two tailed Z-test is used.\n"
      ]
    },
    {
      "cell_type": "code",
      "metadata": {
        "id": "snpNpCTaCl7X",
        "colab": {
          "base_uri": "https://localhost:8080/"
        },
        "outputId": "e705854a-fc69-46a0-9e0a-6c6f0976b3f5"
      },
      "source": [
        "Z = (52.80-52) / (4.5/sqrt(100))\n",
        "print('Z = |X - μ|/ (σ/√n) = %f' % Z)\n",
        "print('p-value = %f' % (2*(1-cdf(Z))) )\n",
        "print('Thus, we CANNOT reject the null hypothesis with 5% level of significance.')\n"
      ],
      "execution_count": 100,
      "outputs": [
        {
          "output_type": "stream",
          "text": [
            "Z = |X - μ|/ (σ/√n) = 1.777778\n",
            "p-value = 0.075440\n",
            "Thus, we CANNOT reject the null hypothesis with 5% level of significance.\n"
          ],
          "name": "stdout"
        }
      ]
    },
    {
      "cell_type": "markdown",
      "metadata": {
        "id": "_xbUwI5jEwAE"
      },
      "source": [
        "**Problem 3**"
      ]
    },
    {
      "cell_type": "markdown",
      "metadata": {
        "id": "vN6CaLDQE0sA"
      },
      "source": [
        "Null Hypothesis: Average of pollutant level has NOT changed.\n",
        "\n",
        "Alternate hypothesis: Average level of pollutant has changed.\n",
        "\n",
        "Two tailed Z-test is used."
      ]
    },
    {
      "cell_type": "code",
      "metadata": {
        "id": "wI2bypqvExOX",
        "colab": {
          "base_uri": "https://localhost:8080/"
        },
        "outputId": "d406a18b-a860-4a2d-9825-02937b630e45"
      },
      "source": [
        "Z = (34-32.5) / (8/sqrt(50))\n",
        "print('Z = |X - μ|/ (σ/√n) = %f' % Z)\n",
        "print('p-value = %f' % (2*(1-cdf(Z))) )\n",
        "print('Thus, we CANNOT reject the null hypothesis with 1% level of significance.')"
      ],
      "execution_count": 101,
      "outputs": [
        {
          "output_type": "stream",
          "text": [
            "Z = |X - μ|/ (σ/√n) = 1.325825\n",
            "p-value = 0.184898\n",
            "Thus, we CANNOT reject the null hypothesis with 1% level of significance.\n"
          ],
          "name": "stdout"
        }
      ]
    },
    {
      "cell_type": "markdown",
      "metadata": {
        "id": "Isz3O2Q_FCOm"
      },
      "source": [
        "**Problem 4**"
      ]
    },
    {
      "cell_type": "markdown",
      "metadata": {
        "id": "sOzWPuDzFE6T"
      },
      "source": [
        "Null Hypothesis: Dental expenditure in the place is described by nation average.\n",
        "\n",
        "Alternate Hypothesis: Dental expenditure in the place is different from nation average.\n",
        "\n",
        "Two tailed T-test is used."
      ]
    },
    {
      "cell_type": "code",
      "metadata": {
        "id": "-G-kH3oHFDEH",
        "colab": {
          "base_uri": "https://localhost:8080/"
        },
        "outputId": "f039381c-7409-413d-e43c-7f996d44ffd0"
      },
      "source": [
        "from statistics import stdev\n",
        "data = [1008, 812, 1117, 1323, 1308, 1415, 831, 1021, 1287, 851, 930, 730, 699, 872, 913, 944, 954, 987, 1695, 995, 1003, 994]\n",
        "mean_s = mean(data)\n",
        "std_s = stdev(data)\n",
        "t = (mean_s - 1135) / (std_s/sqrt(22))\n",
        "t = abs(t)\n",
        "print('t = |sample mean - expected mean| / (sample stdev/√n) = %f' % t)\n",
        "df = len(data) - 1\n",
        "print('p-value = %f' % (2*(1-cdf_t(t, df = df))) )\n",
        "print('Thus, we CANNOT reject the the null hypothesis with 5% level of significance.')"
      ],
      "execution_count": 102,
      "outputs": [
        {
          "output_type": "stream",
          "text": [
            "t = |sample mean - expected mean| / (sample stdev/√n) = 2.023137\n",
            "p-value = 0.055974\n",
            "Thus, we CANNOT reject the the null hypothesis with 5% level of significance.\n"
          ],
          "name": "stdout"
        }
      ]
    },
    {
      "cell_type": "markdown",
      "metadata": {
        "id": "md68ppb9Fbl9"
      },
      "source": [
        "**Problem 5**"
      ]
    },
    {
      "cell_type": "markdown",
      "metadata": {
        "id": "oruBCtRyFh5n"
      },
      "source": [
        "Null hypothesis: Family income is $48432.\n",
        "\n",
        "Alternate Hypothesis: Family income is not $48432.\n",
        "\n",
        "Two tailed T-test is used."
      ]
    },
    {
      "cell_type": "code",
      "metadata": {
        "id": "XstFpcY3Ft41",
        "colab": {
          "base_uri": "https://localhost:8080/"
        },
        "outputId": "d7669231-9793-4e41-8e1b-2a39e028d62f"
      },
      "source": [
        "t = abs((48432-48574)/(2000/sqrt(400)))\n",
        "print('t = |sample mean - expected mean| / (sample stdev/√n) = %f' % t)\n",
        "df = 400 - 1\n",
        "print('p-value = %f' % (2*(1-cdf_t(t, df = df))) )\n",
        "print('Thus, we CANNOT reject the null hypothesis with 5% significance level.')"
      ],
      "execution_count": 103,
      "outputs": [
        {
          "output_type": "stream",
          "text": [
            "t = |sample mean - expected mean| / (sample stdev/√n) = 1.420000\n",
            "p-value = 0.156389\n",
            "Thus, we CANNOT reject the null hypothesis with 5% significance level.\n"
          ],
          "name": "stdout"
        }
      ]
    },
    {
      "cell_type": "markdown",
      "metadata": {
        "id": "ObzHlIQrF6GC"
      },
      "source": [
        "**Problem 6**"
      ]
    },
    {
      "cell_type": "markdown",
      "metadata": {
        "id": "vh5MA95cF9JO"
      },
      "source": [
        "Null hypothesis: Average price is $32.28.\n",
        "\n",
        "Alternate Hypothesis : Average price is not $32.28.\n",
        "\n",
        "Two tailed T-test is used."
      ]
    },
    {
      "cell_type": "code",
      "metadata": {
        "id": "HI3EuggUGGid",
        "colab": {
          "base_uri": "https://localhost:8080/"
        },
        "outputId": "04be0fb4-c8f2-4731-8b20-13be16b11143"
      },
      "source": [
        "t = abs((32.28-31.67)/(1.29/sqrt(19)))\n",
        "print('t = |sample mean - expected mean| / (sample stdev/√n) = %f' % t)\n",
        "df = 19 - 1\n",
        "print('p-value = %f' % (2*(1-cdf_t(t, df = df))) )\n",
        "print('Thus, we CANNOT reject the null hypothesis with 5% significance level.')"
      ],
      "execution_count": 104,
      "outputs": [
        {
          "output_type": "stream",
          "text": [
            "t = |sample mean - expected mean| / (sample stdev/√n) = 2.061185\n",
            "p-value = 0.054034\n",
            "Thus, we CANNOT reject the null hypothesis with 5% significance level.\n"
          ],
          "name": "stdout"
        }
      ]
    },
    {
      "cell_type": "markdown",
      "metadata": {
        "id": "h9xkzJ8oSmex"
      },
      "source": [
        "**Problem 7**"
      ]
    },
    {
      "cell_type": "markdown",
      "metadata": {
        "id": "2fvm66mdGtBm"
      },
      "source": [
        "**Problem 8**"
      ]
    },
    {
      "cell_type": "code",
      "metadata": {
        "id": "nQrG7v6UGvh2",
        "colab": {
          "base_uri": "https://localhost:8080/"
        },
        "outputId": "ddff921a-8336-4876-ef05-7a15dc72e00d"
      },
      "source": [
        "t = abs((12-10)/(1.5/sqrt(16)))\n",
        "print('t = |sample mean - expected mean| / (sample stdev/√n) = %f' % t)\n",
        "#df = 16 - 1\n",
        "#print('CDF = %f' % cdf_t(t, df = df))"
      ],
      "execution_count": 105,
      "outputs": [
        {
          "output_type": "stream",
          "text": [
            "t = |sample mean - expected mean| / (sample stdev/√n) = 5.333333\n"
          ],
          "name": "stdout"
        }
      ]
    },
    {
      "cell_type": "markdown",
      "metadata": {
        "id": "KIpiHR9_Gzbr"
      },
      "source": [
        "**Problem 9**"
      ]
    },
    {
      "cell_type": "code",
      "metadata": {
        "id": "7WPGpKUpGx_s",
        "colab": {
          "base_uri": "https://localhost:8080/"
        },
        "outputId": "470382b6-fe15-4d0c-a0f3-a3fcadd0effb"
      },
      "source": [
        "df = 16 - 1\n",
        "t = ppf_t(0.99,df)\n",
        "print('Required t score = %f' % t)"
      ],
      "execution_count": 106,
      "outputs": [
        {
          "output_type": "stream",
          "text": [
            "Required t score = 2.602480\n"
          ],
          "name": "stdout"
        }
      ]
    },
    {
      "cell_type": "markdown",
      "metadata": {
        "id": "qKWs6pWSHCAV"
      },
      "source": [
        "**Problem 10**"
      ]
    },
    {
      "cell_type": "code",
      "metadata": {
        "id": "QWwlvncdHE9n",
        "colab": {
          "base_uri": "https://localhost:8080/"
        },
        "outputId": "dde72d42-d14d-4871-af99-984752b417ac"
      },
      "source": [
        "df = 25 - 1\n",
        "t = ppf_t(0.95+0.05/2,df)\n",
        "print('Required t score = -%f to %f' % (t,t))"
      ],
      "execution_count": 107,
      "outputs": [
        {
          "output_type": "stream",
          "text": [
            "Required t score = -2.063899 to 2.063899\n"
          ],
          "name": "stdout"
        }
      ]
    },
    {
      "cell_type": "markdown",
      "metadata": {
        "id": "U4yGegHmHI6e"
      },
      "source": [
        "**Problem 11**"
      ]
    },
    {
      "cell_type": "markdown",
      "metadata": {
        "id": "mT69aXvyHNeU"
      },
      "source": [
        "Null Hypothesis: Same number of people travel from Bangalore-Chennai and Bangalore-Hosur.\n",
        "\n",
        "Alternate Hypothesis: Different number of people travel each journeys."
      ]
    },
    {
      "cell_type": "code",
      "metadata": {
        "id": "cOTptht0HIC5",
        "colab": {
          "base_uri": "https://localhost:8080/"
        },
        "outputId": "13850dc7-babd-48cc-ca6d-3efb54718555"
      },
      "source": [
        "def ANOVA_one_way(x1, s1, n1, x2, s2, n2):\n",
        "    SS_err = s1**2 * (n1-1) + s2**2 * (n2-1)\n",
        "    var = SS_err / (n1+n2-2)\n",
        "    #print(n1)\n",
        "    #print(n2)\n",
        "    t = (x1 - x2) / sqrt(1/n1 + 1/n2) / sqrt(var)\n",
        "    print('Two-tailed t-test is used.')\n",
        "    print('t score = %f' % (t))\n",
        "    df = n1 + n2 - 2\n",
        "#    print('p-value = %f' % (2*(1-cdf(abs(t)))) )\n",
        "    p_val = (2*(1-cdf_t(abs(t), df = df)))\n",
        "    print('p-value = %f' %  p_val)\n",
        "    if(p_val < 0.05):\n",
        "      print('Thus, we reject the null hypothesis with 5% significance level.')\n",
        "    else:\n",
        "      print('Thus, we CANNOT reject the null hypothesis with 5% significance level.')\n",
        "\n",
        "ANOVA_one_way(452, 212, 1200, 523, 185, 800)\n"
      ],
      "execution_count": 108,
      "outputs": [
        {
          "output_type": "stream",
          "text": [
            "Two-tailed t-test is used.\n",
            "t score = -7.714518\n",
            "p-value = 0.000000\n",
            "Thus, we reject the null hypothesis with 5% significance level.\n"
          ],
          "name": "stdout"
        }
      ]
    },
    {
      "cell_type": "markdown",
      "metadata": {
        "id": "Qw2YHmJmHVw9"
      },
      "source": [
        "**Problem 12**"
      ]
    },
    {
      "cell_type": "markdown",
      "metadata": {
        "id": "Mm34q-waHY77"
      },
      "source": [
        "Null Hypothesis: Same number of people prefer Duracell and Energizer battery.\n",
        "\n",
        "Alternate Hypothesis: Different number of people prefer each battery."
      ]
    },
    {
      "cell_type": "code",
      "metadata": {
        "id": "rgFfuFD_HUvz",
        "colab": {
          "base_uri": "https://localhost:8080/"
        },
        "outputId": "8c35e605-81af-4cfa-bdc2-ed17c6930d12"
      },
      "source": [
        "ANOVA_one_way(308, 84, 100, 254, 67, 100)"
      ],
      "execution_count": 109,
      "outputs": [
        {
          "output_type": "stream",
          "text": [
            "Two-tailed t-test is used.\n",
            "t score = 5.025703\n",
            "p-value = 0.000001\n",
            "Thus, we reject the null hypothesis with 5% significance level.\n"
          ],
          "name": "stdout"
        }
      ]
    },
    {
      "cell_type": "markdown",
      "metadata": {
        "id": "tCax7OnqHVHU"
      },
      "source": [
        "**Problem 13**"
      ]
    },
    {
      "cell_type": "markdown",
      "metadata": {
        "id": "CESAGilSHnF6"
      },
      "source": [
        "Null Hypothesis: Percentage increase in price of sugar is same at both prices.\n",
        "\n",
        "Alternate Hypothesis: Percentage increase in price of sugar is NOT same at both prices."
      ]
    },
    {
      "cell_type": "code",
      "metadata": {
        "id": "DcimjshBIFFo",
        "colab": {
          "base_uri": "https://localhost:8080/"
        },
        "outputId": "22d42506-c119-427b-a8c6-b10af6426cdb"
      },
      "source": [
        "ANOVA_one_way(0.317, 0.12, 14, 0.21, 0.11, 9)"
      ],
      "execution_count": 110,
      "outputs": [
        {
          "output_type": "stream",
          "text": [
            "Two-tailed t-test is used.\n",
            "t score = 2.153553\n",
            "p-value = 0.043047\n",
            "Thus, we reject the null hypothesis with 5% significance level.\n"
          ],
          "name": "stdout"
        }
      ]
    },
    {
      "cell_type": "markdown",
      "metadata": {
        "id": "BEBEkmFNIIVk"
      },
      "source": [
        "**Problem 14**"
      ]
    },
    {
      "cell_type": "markdown",
      "metadata": {
        "id": "HbO6R84MIZCc"
      },
      "source": [
        "Null Hypothesis: Sales is NOT changed after price reduction.\n",
        "\n",
        "Alternate Hypothesis: Sales is changed after price reduction."
      ]
    },
    {
      "cell_type": "code",
      "metadata": {
        "id": "2HueBa9uIdYB",
        "colab": {
          "base_uri": "https://localhost:8080/"
        },
        "outputId": "99f2b6b0-5ebd-4039-8781-730acf98bb5e"
      },
      "source": [
        "ANOVA_one_way(6598, 844, 15, 6870, 669, 12)"
      ],
      "execution_count": 111,
      "outputs": [
        {
          "output_type": "stream",
          "text": [
            "Two-tailed t-test is used.\n",
            "t score = -0.909830\n",
            "p-value = 0.371601\n",
            "Thus, we CANNOT reject the null hypothesis with 5% significance level.\n"
          ],
          "name": "stdout"
        }
      ]
    },
    {
      "cell_type": "markdown",
      "metadata": {
        "id": "WJRNP0ttKY8r"
      },
      "source": [
        "**Problem 15**"
      ]
    },
    {
      "cell_type": "markdown",
      "metadata": {
        "id": "XL9DPLi4Kb9n"
      },
      "source": [
        "Null Hypothesis: Banks share is same in 1980 and 1995.\n",
        "\n",
        "Alternate Hypothesis: Banks share is NOT same in 1980 and 1995."
      ]
    },
    {
      "cell_type": "code",
      "metadata": {
        "id": "daRBzx49KbUf",
        "colab": {
          "base_uri": "https://localhost:8080/"
        },
        "outputId": "15ee6b17-4df6-4398-a62e-2ec7c005d066"
      },
      "source": [
        "def ANOVA_proportions(p1, n1, p2, n2, delta=0):\n",
        "  SE = sqrt( (p1*(1-p1)/n1) + (p2*(1-p2)/n2) )\n",
        "  #print(SE)\n",
        "  z_stat = (abs(p1-p2)-delta)/SE\n",
        "  p_val = 2*(1-cdf(abs(z_stat)))\n",
        "  print('Two-tailed z-test is used.')\n",
        "  print('z score = %f' % (z_stat))\n",
        "  print('p-value = %f' %  p_val)\n",
        "  if(p_val < 0.05):\n",
        "    print('Thus, we reject the null hypothesis with 5% significance level.')\n",
        "  else:\n",
        "    print('Thus, we CANNOT reject the null hypothesis with 5% significance level.')\n",
        "\n",
        "ANOVA_proportions(53/1000, 1000, 43/100, 100)"
      ],
      "execution_count": 112,
      "outputs": [
        {
          "output_type": "stream",
          "text": [
            "Two-tailed z-test is used.\n",
            "z score = 7.538205\n",
            "p-value = 0.000000\n",
            "Thus, we reject the null hypothesis with 5% significance level.\n"
          ],
          "name": "stdout"
        }
      ]
    },
    {
      "cell_type": "markdown",
      "metadata": {
        "id": "uOwSFLCtAhxH"
      },
      "source": [
        "**Problem 16**"
      ]
    },
    {
      "cell_type": "markdown",
      "metadata": {
        "id": "OFuKdqVpAmKZ"
      },
      "source": [
        "Null hypothesis: Proportion of check buyers with sweepstake prizes is at least 10% higher.\n",
        "\n",
        "Alternate hypothesis: Proportion of check buyers with sweepstake prizes is NOT at least 10% higher."
      ]
    },
    {
      "cell_type": "code",
      "metadata": {
        "colab": {
          "base_uri": "https://localhost:8080/"
        },
        "id": "jJXiqylfBEbl",
        "outputId": "0887d219-ddb7-4a06-ed1b-cd36737c1bab"
      },
      "source": [
        "def ANOVA_proportions_one_tail(p1, n1, p2, n2, delta=0):\n",
        "  SE = sqrt( (p1*(1-p1)/n1) + (p2*(1-p2)/n2) )\n",
        "  #print('Standard error = %f' % SE)\n",
        "  z_stat = abs(p1-p2-delta)/SE\n",
        "  p_val = 1-cdf(abs(z_stat))\n",
        "  print('One-tailed z-test is used.')\n",
        "  print('z score = %f' % z_stat)\n",
        "  print('p-value = %f' %  p_val)\n",
        "  if(p_val < 0.05):\n",
        "    print('Thus, we reject the null hypothesis with 5% significance level.')\n",
        "  else:\n",
        "    print('Thus, we CANNOT reject the null hypothesis with 5% significance level.')\n",
        "\n",
        "ANOVA_proportions_one_tail(120/300, 300, 140/700, 700, 0.1)"
      ],
      "execution_count": 113,
      "outputs": [
        {
          "output_type": "stream",
          "text": [
            "One-tailed z-test is used.\n",
            "z score = 3.118048\n",
            "p-value = 0.000910\n",
            "Thus, we reject the null hypothesis with 5% significance level.\n"
          ],
          "name": "stdout"
        }
      ]
    },
    {
      "cell_type": "markdown",
      "metadata": {
        "id": "czJVB3Yjb2cw"
      },
      "source": [
        "**Problem 17**"
      ]
    },
    {
      "cell_type": "markdown",
      "metadata": {
        "id": "wORLftyHcGPy"
      },
      "source": [
        "Null hypothesis: Die is unbiased.\n",
        "\n",
        "Alternate hypothesis: Die is biased."
      ]
    },
    {
      "cell_type": "code",
      "metadata": {
        "id": "ZDe-Q_iIdJDV"
      },
      "source": [
        "def chi_square_test_single(obs):\n",
        "  exp = sum(obs)/size(obs)\n",
        "  chi_sq = sum([(obs[index]-exp)**2 / exp for index in range(size(obs))])\n",
        "  #print(chi_sq)\n",
        "  p_val = 1 - cdf_chi(chi_sq, df = size(obs)-1)\n",
        "  print('p-value = %f' %  p_val)\n",
        "  if(p_val < 0.05):\n",
        "    print('Thus, we reject the null hypothesis with 5% significance level.')\n",
        "  else:\n",
        "    print('Thus, we CANNOT reject the null hypothesis with 5% significance level.')"
      ],
      "execution_count": 114,
      "outputs": []
    },
    {
      "cell_type": "code",
      "metadata": {
        "colab": {
          "base_uri": "https://localhost:8080/"
        },
        "id": "C2uQFubEpst4",
        "outputId": "7088d698-3cb4-43a2-a4a7-f82386fbf48e"
      },
      "source": [
        "obs = [16, 20, 25, 14, 29, 28]\n",
        "chi_square_test_single(obs)"
      ],
      "execution_count": 115,
      "outputs": [
        {
          "output_type": "stream",
          "text": [
            "p-value = 0.109064\n",
            "Thus, we CANNOT reject the null hypothesis with 5% significance level.\n"
          ],
          "name": "stdout"
        }
      ]
    },
    {
      "cell_type": "markdown",
      "metadata": {
        "id": "CTOu6_P4lWyu"
      },
      "source": [
        "**Problem 18**"
      ]
    },
    {
      "cell_type": "markdown",
      "metadata": {
        "id": "3-CwBIbPlaiC"
      },
      "source": [
        "Null hypothesis: Gender and voting are independent.\n",
        "\n",
        "Alternate hypothesis: Gender and voting are dependent."
      ]
    },
    {
      "cell_type": "code",
      "metadata": {
        "colab": {
          "base_uri": "https://localhost:8080/"
        },
        "id": "t3IUawFmd7Yq",
        "outputId": "1758ca12-fc4b-4123-bd9d-e8e2313486df"
      },
      "source": [
        "def chi_square_test(obs_mat):\n",
        "  r,c = shape(obs_mat)\n",
        "  col_total = sum(obs_mat, axis=0)\n",
        "  row_total = sum(obs_mat, axis=1)\n",
        "  grand_total = sum(col_total)\n",
        "  exp_freq = [tot/grand_total for tot in col_total]\n",
        "  chi_sq = 0\n",
        "  for index1 in range(r):\n",
        "    for index2 in range(c):\n",
        "      exp_val = exp_freq[index2] * row_total[index1]\n",
        "      #print(exp_val)\n",
        "      chi_sq = chi_sq + (obs_mat[index1][index2] - exp_val)**2 / exp_val\n",
        "\n",
        "  #print(chi_sq)\n",
        "  p_val = 1 - cdf_chi(chi_sq, df = (r-1)*(c-1))\n",
        "  print('p-value = %f' %  p_val)\n",
        "  if(p_val < 0.05):\n",
        "    print('Thus, we reject the null hypothesis with 5% significance level.')\n",
        "  else:\n",
        "    print('Thus, we CANNOT reject the null hypothesis with 5% significance level.')\n",
        "\n",
        "obs_mat = [[2792, 3591], [1486, 2131]]\n",
        "#chi_square_test(list(map(list, zip(*obs_mat))))\n",
        "chi_square_test(obs_mat)"
      ],
      "execution_count": 116,
      "outputs": [
        {
          "output_type": "stream",
          "text": [
            "p-value = 0.009858\n",
            "Thus, we reject the null hypothesis with 5% significance level.\n"
          ],
          "name": "stdout"
        }
      ]
    },
    {
      "cell_type": "markdown",
      "metadata": {
        "id": "cfFZWQukpC0Y"
      },
      "source": [
        "**Problem 19**"
      ]
    },
    {
      "cell_type": "markdown",
      "metadata": {
        "id": "R8AhqYb3pGzz"
      },
      "source": [
        "Null hypothesis: All candidates are equally popular.\n",
        "\n",
        "Alternate hypothesis: All candidates are not equally popular."
      ]
    },
    {
      "cell_type": "code",
      "metadata": {
        "colab": {
          "base_uri": "https://localhost:8080/"
        },
        "id": "C6iMEK3DnHBJ",
        "outputId": "0a5d6308-0ea2-4ef5-9cf5-a971cd04c385"
      },
      "source": [
        "obs = [41, 19, 24, 16]\n",
        "chi_square_test_single(obs)"
      ],
      "execution_count": 117,
      "outputs": [
        {
          "output_type": "stream",
          "text": [
            "p-value = 0.001851\n",
            "Thus, we reject the null hypothesis with 5% significance level.\n"
          ],
          "name": "stdout"
        }
      ]
    },
    {
      "cell_type": "markdown",
      "metadata": {
        "id": "_nxGTyINp7DH"
      },
      "source": [
        "**Problem 20**"
      ]
    },
    {
      "cell_type": "markdown",
      "metadata": {
        "id": "v5wTZsgqp93a"
      },
      "source": [
        "Null hypothesis: Age and photograph preference are independent.\n",
        "\n",
        "Alternate hypothesis: Age and photograph preference are dependent."
      ]
    },
    {
      "cell_type": "code",
      "metadata": {
        "colab": {
          "base_uri": "https://localhost:8080/"
        },
        "id": "MI2Z9NrFqVTJ",
        "outputId": "709b26d7-5712-4649-9a28-07aa7d45d609"
      },
      "source": [
        "obs = [[18, 22, 20], [2, 28, 40], [20, 10, 40]]\n",
        "chi_square_test(obs)"
      ],
      "execution_count": 118,
      "outputs": [
        {
          "output_type": "stream",
          "text": [
            "p-value = 0.000006\n",
            "Thus, we reject the null hypothesis with 5% significance level.\n"
          ],
          "name": "stdout"
        }
      ]
    },
    {
      "cell_type": "markdown",
      "metadata": {
        "id": "rrmfJ3JlqvhF"
      },
      "source": [
        "**Problem 21**"
      ]
    },
    {
      "cell_type": "markdown",
      "metadata": {
        "id": "f5YER34vqxAq"
      },
      "source": [
        "Null hypothesis: 'Support' and 'conform' are independent.\n",
        "\n",
        "Alternate hypothesis: 'Support' and 'conform' are dependent."
      ]
    },
    {
      "cell_type": "code",
      "metadata": {
        "colab": {
          "base_uri": "https://localhost:8080/"
        },
        "id": "q3MBWVOtq_Uu",
        "outputId": "37b85990-7660-442c-d4c7-7c28ec0fa8bb"
      },
      "source": [
        "obs = [[18,40],[32,10]]\n",
        "chi_square_test(obs)"
      ],
      "execution_count": 119,
      "outputs": [
        {
          "output_type": "stream",
          "text": [
            "p-value = 0.000008\n",
            "Thus, we reject the null hypothesis with 5% significance level.\n"
          ],
          "name": "stdout"
        }
      ]
    },
    {
      "cell_type": "markdown",
      "metadata": {
        "id": "VKfJRc0Mr-kU"
      },
      "source": [
        "**Problem 22**"
      ]
    },
    {
      "cell_type": "markdown",
      "metadata": {
        "id": "A-y-3kk4sAQG"
      },
      "source": [
        "Null hypothesis: Stature and leadership qualities are independent.\n",
        "\n",
        "Alternate hypothesis: Stature and leadership qualities are dependent."
      ]
    },
    {
      "cell_type": "code",
      "metadata": {
        "colab": {
          "base_uri": "https://localhost:8080/"
        },
        "id": "GjHDK4k3sbGU",
        "outputId": "fe188d78-f5b2-40a5-c9c6-66fa5c8b18f2"
      },
      "source": [
        "obs = [[12, 22, 9],[32, 14, 6]]\n",
        "chi_square_test(obs)"
      ],
      "execution_count": 120,
      "outputs": [
        {
          "output_type": "stream",
          "text": [
            "p-value = 0.004719\n",
            "Thus, we reject the null hypothesis with 5% significance level.\n"
          ],
          "name": "stdout"
        }
      ]
    },
    {
      "cell_type": "markdown",
      "metadata": {
        "id": "vl13yW3SssXw"
      },
      "source": [
        "**Problem 23**"
      ]
    },
    {
      "cell_type": "markdown",
      "metadata": {
        "id": "l48Apa12suMs"
      },
      "source": [
        "Null hypothesis: Marital status and employment are independent.\n",
        "\n",
        "Alternate hypothesis: Marital status and employment are dependent."
      ]
    },
    {
      "cell_type": "code",
      "metadata": {
        "colab": {
          "base_uri": "https://localhost:8080/"
        },
        "id": "J9hHqOfns19J",
        "outputId": "9ec344e7-94c8-445e-95fa-927e3a49ed56"
      },
      "source": [
        "obs = [[679, 103, 114], [63, 10, 20], [42, 18, 25]]\n",
        "chi_square_test(obs)"
      ],
      "execution_count": 121,
      "outputs": [
        {
          "output_type": "stream",
          "text": [
            "p-value = 0.000002\n",
            "Thus, we reject the null hypothesis with 5% significance level.\n"
          ],
          "name": "stdout"
        }
      ]
    }
  ]
}